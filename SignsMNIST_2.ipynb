{
  "nbformat": 4,
  "nbformat_minor": 0,
  "metadata": {
    "colab": {
      "name": "SignsMNIST-2.ipynb",
      "provenance": [],
      "collapsed_sections": [],
      "mount_file_id": "1Y4dr5dzj534x20KMnlvIGFPDMjeX50x5",
      "authorship_tag": "ABX9TyNav0HxZAUrLjY6NEpzkGvH",
      "include_colab_link": true
    },
    "kernelspec": {
      "name": "python3",
      "display_name": "Python 3"
    }
  },
  "cells": [
    {
      "cell_type": "markdown",
      "metadata": {
        "id": "view-in-github",
        "colab_type": "text"
      },
      "source": [
        "<a href=\"https://colab.research.google.com/github/sanjit1995/SignsLanguage_MNIST/blob/master/SignsMNIST_2.ipynb\" target=\"_parent\"><img src=\"https://colab.research.google.com/assets/colab-badge.svg\" alt=\"Open In Colab\"/></a>"
      ]
    },
    {
      "cell_type": "code",
      "metadata": {
        "id": "I92b95RR1eLI",
        "colab_type": "code",
        "colab": {}
      },
      "source": [
        "import numpy as np\n",
        "import tensorflow as tf\n",
        "import pandas as pd\n",
        "from keras.utils import to_categorical\n",
        "from keras.layers import Dropout, Input, Add, Dense, Activation, ZeroPadding2D, BatchNormalization, Flatten, Conv2D, AveragePooling2D, MaxPooling2D, GlobalMaxPooling2D, MaxPool2D\n",
        "from keras.models import Model, load_model\n",
        "from matplotlib.pyplot import imshow\n",
        "import matplotlib.pyplot as plt\n",
        "import keras.backend as K\n",
        "from keras.models import model_from_json\n",
        "from keras.models import Sequential\n",
        "from keras import layers\n",
        "from keras.preprocessing import image\n",
        "from keras.utils import layer_utils\n",
        "from keras.utils.data_utils import get_file\n",
        "from keras.applications.imagenet_utils import preprocess_input\n",
        "from IPython.display import SVG\n",
        "from keras.utils.vis_utils import model_to_dot\n",
        "from keras.utils import plot_model\n",
        "from keras.initializers import glorot_uniform\n",
        "import scipy.misc\n",
        "from keras.utils import to_categorical\n",
        "import pandas as pd\n",
        "import PIL.Image\n",
        "import tensorflow as tf\n",
        "import keras.backend as K\n",
        "from keras.utils import to_categorical\n",
        "from keras.models import Sequential"
      ],
      "execution_count": 0,
      "outputs": []
    },
    {
      "cell_type": "code",
      "metadata": {
        "id": "p8eCMEKJAQqT",
        "colab_type": "code",
        "colab": {}
      },
      "source": [
        "# load the model from disk\n",
        "filename = '/content/drive/My Drive/Colab Notebooks/data/SignLanguageMNIST/signLanguage_modelCNN_diffApproach.pkl'\n",
        "model = pickle.load(open(filename, 'rb'))"
      ],
      "execution_count": 0,
      "outputs": []
    },
    {
      "cell_type": "code",
      "metadata": {
        "id": "2XoCxdkK1xzB",
        "colab_type": "code",
        "colab": {}
      },
      "source": [
        "#loadata \n",
        "train=pd.read_csv('/content/drive/My Drive/Colab Notebooks/data/SignLanguageMNIST/sign_mnist_train.csv')\n",
        "train_label=train['label']\n",
        "train=train.drop('label',1)\n",
        "train=(np.array(train))\n",
        "test=pd.read_csv('/content/drive/My Drive/Colab Notebooks/data/SignLanguageMNIST/sign_mnist_test.csv')\n",
        "test_label=test['label']\n",
        "test=test.drop('label',1)\n",
        "test=(np.array(test))"
      ],
      "execution_count": 0,
      "outputs": []
    },
    {
      "cell_type": "code",
      "metadata": {
        "id": "RiiTEsPE5K3Q",
        "colab_type": "code",
        "colab": {}
      },
      "source": [
        "train"
      ],
      "execution_count": 0,
      "outputs": []
    },
    {
      "cell_type": "code",
      "metadata": {
        "id": "NLWjJ4_v2Eap",
        "colab_type": "code",
        "colab": {}
      },
      "source": [
        "#one hot encoding of labels\n",
        "def one_hot(labels):\n",
        "    labels=pd.Series(labels)\n",
        "    labels=pd.get_dummies(labels)\n",
        "    return np.array(labels)"
      ],
      "execution_count": 0,
      "outputs": []
    },
    {
      "cell_type": "code",
      "metadata": {
        "id": "OtVEK_6x2HcG",
        "colab_type": "code",
        "colab": {}
      },
      "source": [
        "def remodel(vec):\n",
        "    mat=[]\n",
        "    for i in range(0,len(vec)):\n",
        "        mat.append((vec[i]).reshape(28,28,1))\n",
        "    return np.array(mat)"
      ],
      "execution_count": 0,
      "outputs": []
    },
    {
      "cell_type": "code",
      "metadata": {
        "id": "TxSFm11K2Kbx",
        "colab_type": "code",
        "colab": {}
      },
      "source": [
        "train_data,test_data,train_labels,test_labels=remodel(train),remodel(test),one_hot(train_label),one_hot(test_label)"
      ],
      "execution_count": 0,
      "outputs": []
    },
    {
      "cell_type": "code",
      "metadata": {
        "id": "xHaznJYk2MnA",
        "colab_type": "code",
        "colab": {
          "base_uri": "https://localhost:8080/",
          "height": 282
        },
        "outputId": "08b8ca94-4428-40cb-f002-85dd16fc5262"
      },
      "source": [
        "plt.imshow(test_data[399].reshape(28,28))#checking data"
      ],
      "execution_count": 112,
      "outputs": [
        {
          "output_type": "execute_result",
          "data": {
            "text/plain": [
              "<matplotlib.image.AxesImage at 0x7f9b3b050ac8>"
            ]
          },
          "metadata": {
            "tags": []
          },
          "execution_count": 112
        },
        {
          "output_type": "display_data",
          "data": {
            "image/png": "[encoded data removed]",
            "text/plain": [
              "<Figure size 432x288 with 1 Axes>"
            ]
          },
          "metadata": {
            "tags": [],
            "needs_background": "light"
          }
        }
      ]
    },
    {
      "cell_type": "code",
      "metadata": {
        "id": "wFQNg4Kj6lsQ",
        "colab_type": "code",
        "colab": {}
      },
      "source": [
        "def train(input_shape):\n",
        "    X_input = Input(input_shape)\n",
        "\n",
        "    X = Conv2D(32, 2, activation='relu', input_shape=(28,28,1))(X_input)\n",
        "    X = Conv2D(64, 2, activation='relu')(X)\n",
        "    X = MaxPool2D(pool_size=(2, 2))(X)\n",
        "    X = Dropout(0.25)(X)\n",
        "\n",
        "    X = Conv2D(32, 2, activation='relu')(X)\n",
        "    X = Conv2D(64, 2, activation='relu')(X)\n",
        "    X = MaxPool2D(pool_size=(2, 2))(X)\n",
        "    X = Dropout(0.25)(X)\n",
        "\n",
        "    X = Conv2D(32, 2, activation='relu')(X)\n",
        "    X = Conv2D(64, 2, activation='relu')(X)\n",
        "    X = MaxPool2D(pool_size=(2, 2))(X)\n",
        "    X = Dropout(0.25)(X)\n",
        "\n",
        "    X = Flatten()(X)\n",
        "    X = Dense(1024, activation='relu')(X)\n",
        "    X = Dropout(0.5)(X)\n",
        "    X = Dense(24, activation='softmax')(X)\n",
        "    model = Model(inputs=X_input,outputs=X,name=\"custom_net\")\n",
        "    return model"
      ],
      "execution_count": 0,
      "outputs": []
    },
    {
      "cell_type": "code",
      "metadata": {
        "id": "GTpQSp8u2R2r",
        "colab_type": "code",
        "colab": {}
      },
      "source": [
        "def custom_net(input_shape):# Custom Model\n",
        "    X_input = Input(input_shape)\n",
        "    X = Conv2D(5, (3,3), strides = (5, 5), name = 'conv1')(X_input)\n",
        "    X = Activation('relu')(X)\n",
        "    X = MaxPooling2D((2, 2),strides=(2,2),name='max_pool1')(X)\n",
        "    X = Conv2D(10, (1,1), strides = (2, 2), name = 'conv2')(X)\n",
        "    X = Activation('relu')(X)\n",
        "    X = MaxPooling2D((2, 2),strides=(1,1),name='max_pool2')(X)\n",
        "    X = Flatten()(X)\n",
        "    X = Dense(24, activation='softmax', name='fc')(X)\n",
        "    model = Model(inputs=X_input,outputs=X,name=\"custom_net\")\n",
        "    return model"
      ],
      "execution_count": 0,
      "outputs": []
    },
    {
      "cell_type": "code",
      "metadata": {
        "id": "B25FbJCr2T9j",
        "colab_type": "code",
        "colab": {}
      },
      "source": [
        "cModel=train(train_data.shape[1:])"
      ],
      "execution_count": 0,
      "outputs": []
    },
    {
      "cell_type": "code",
      "metadata": {
        "id": "mJVNY-L12WLV",
        "colab_type": "code",
        "colab": {}
      },
      "source": [
        "cModel.compile('adam', 'binary_crossentropy', metrics=['accuracy'])"
      ],
      "execution_count": 0,
      "outputs": []
    },
    {
      "cell_type": "code",
      "metadata": {
        "id": "q44X149f2X_Y",
        "colab_type": "code",
        "colab": {}
      },
      "source": [
        "cModel.fit(x=train_data,y=train_labels,epochs=5, batch_size=100)"
      ],
      "execution_count": 0,
      "outputs": []
    },
    {
      "cell_type": "markdown",
      "metadata": {
        "id": "lofLoXWrHFdF",
        "colab_type": "text"
      },
      "source": [
        "Functions for a purpose"
      ]
    },
    {
      "cell_type": "code",
      "metadata": {
        "id": "8soDrSljaZeh",
        "colab_type": "code",
        "colab": {
          "base_uri": "https://localhost:8080/",
          "height": 34
        },
        "outputId": "c07d7fc0-44e6-453a-ecef-ff922004033e"
      },
      "source": [
        "test_data[0].shape"
      ],
      "execution_count": 212,
      "outputs": [
        {
          "output_type": "execute_result",
          "data": {
            "text/plain": [
              "(28, 28, 1)"
            ]
          },
          "metadata": {
            "tags": []
          },
          "execution_count": 212
        }
      ]
    },
    {
      "cell_type": "code",
      "metadata": {
        "id": "eiVfXNq1_Xjc",
        "colab_type": "code",
        "colab": {}
      },
      "source": [
        "def checkValidity(ind,x_test,y_test,model):\n",
        "  out=model.predict(np.expand_dims(x_test[ind],axis=0))\n",
        "  out=(out.reshape(24,))\n",
        "  out=list(out)\n",
        "  num2alpha = {\n",
        "    0: \"A\", 1: \"B\", 2: \"C\", 3: \"D\", 4: \"E\", 5: \"F\", 6: \"G\", 7: \"H\", 8: \"I\", 10: \"K\", 11: \"L\", 12: \"M\", 13: \"N\",\n",
        "    14: \"O\", 15: \"P\", 16: \"Q\", 17: \"R\", 18: \"S\", 19: \"T\", 20: \"U\", 21: \"V\", 22: \"W\", 23: \"X\", 24: \"Y\"\n",
        "  }\n",
        "  orig = num2alpha[y_test[ind]]\n",
        "  print(\"Original Label = \" + str(y_test[ind]))\n",
        "  print(\"Original Value = \" + str(orig))\n",
        "  max_value = max(out)\n",
        "  max_index = out.index(max_value)\n",
        "  num2alpha_mod = {\n",
        "    0: \"A\", 1: \"B\", 2: \"C\", 3: \"D\", 4: \"E\", 5: \"F\", 6: \"G\", 7: \"H\", 8: \"I\", 9: \"K\", 10: \"L\", 11: \"M\", 12: \"N\",\n",
        "    13: \"O\", 14: \"P\", 15: \"Q\", 16: \"R\", 17: \"S\", 18: \"T\", 19: \"U\", 20: \"V\", 21: \"W\", 22: \"X\", 23: \"Y\"\n",
        "  }\n",
        "  plt.imshow(test_data[ind].reshape(28,28))\n",
        "  pred = num2alpha_mod[max_index]\n",
        "  print(\"Predicted Value = \" + str(pred))"
      ],
      "execution_count": 0,
      "outputs": []
    },
    {
      "cell_type": "code",
      "metadata": {
        "id": "k48OQ3lICOC8",
        "colab_type": "code",
        "colab": {
          "base_uri": "https://localhost:8080/",
          "height": 316
        },
        "outputId": "64fb7d34-b000-444e-a4af-775670e51aa1"
      },
      "source": [
        "checkValidity(ind=71,x_test=test_data,y_test=test_label,model=cModel)"
      ],
      "execution_count": 236,
      "outputs": [
        {
          "output_type": "stream",
          "text": [
            "Original Label = 6\n",
            "Original Value = G\n",
            "Predicted Value = G\n"
          ],
          "name": "stdout"
        },
        {
          "output_type": "display_data",
          "data": {
            "image/png": "[encoded data removed]",
            "text/plain": [
              "<Figure size 432x288 with 1 Axes>"
            ]
          },
          "metadata": {
            "tags": [],
            "needs_background": "light"
          }
        }
      ]
    },
    {
      "cell_type": "code",
      "metadata": {
        "id": "T1W38tqQ2Z_2",
        "colab_type": "code",
        "colab": {
          "base_uri": "https://localhost:8080/",
          "height": 85
        },
        "outputId": "3e4dc68f-0a79-4826-8e71-41a30b50f019"
      },
      "source": [
        "preds = cModel.evaluate(x=test_data,y=test_labels)\n",
        "print (\"Loss = \" + str(preds[0]))\n",
        "print (\"Test Accuracy = \" + str(preds[1]))"
      ],
      "execution_count": 105,
      "outputs": [
        {
          "output_type": "stream",
          "text": [
            "7172/7172 [==============================] - 4s 566us/step\n",
            "\n",
            "Loss = 0.0170284596834606\n",
            "Test Accuracy = 0.9933362603187561\n"
          ],
          "name": "stdout"
        }
      ]
    },
    {
      "cell_type": "code",
      "metadata": {
        "id": "p-CO95bnJoSi",
        "colab_type": "code",
        "colab": {
          "base_uri": "https://localhost:8080/",
          "height": 34
        },
        "outputId": "6471e70f-7241-4086-832e-3f59c77e1eed"
      },
      "source": [
        "test_data.shape"
      ],
      "execution_count": 176,
      "outputs": [
        {
          "output_type": "execute_result",
          "data": {
            "text/plain": [
              "(7172, 28, 28, 1)"
            ]
          },
          "metadata": {
            "tags": []
          },
          "execution_count": 176
        }
      ]
    },
    {
      "cell_type": "code",
      "metadata": {
        "id": "LlJJ4szSH_En",
        "colab_type": "code",
        "colab": {}
      },
      "source": [
        "pred_arr = []\n",
        "orig_label_arr = []\n",
        "for i in range(0, len(test_data)):\n",
        "  orig_label_arr.append(num2alpha[test_label[i]])\n",
        "  num2alpha = {\n",
        "    0: \"A\", 1: \"B\", 2: \"C\", 3: \"D\", 4: \"E\", 5: \"F\", 6: \"G\", 7: \"H\", 8: \"I\", 10: \"K\", 11: \"L\", 12: \"M\", 13: \"N\",\n",
        "    14: \"O\", 15: \"P\", 16: \"Q\", 17: \"R\", 18: \"S\", 19: \"T\", 20: \"U\", 21: \"V\", 22: \"W\", 23: \"X\", 24: \"Y\"\n",
        "  }\n",
        "  num2alpha_mod = {\n",
        "    0: \"A\", 1: \"B\", 2: \"C\", 3: \"D\", 4: \"E\", 5: \"F\", 6: \"G\", 7: \"H\", 8: \"I\", 9: \"K\", 10: \"L\", 11: \"M\", 12: \"N\",\n",
        "    13: \"O\", 14: \"P\", 15: \"Q\", 16: \"R\", 17: \"S\", 18: \"T\", 19: \"U\", 20: \"V\", 21: \"W\", 22: \"X\", 23: \"Y\"\n",
        "  }\n",
        "  #model.predict(np.expand_dims(x_test[ind],axis=0))\n",
        "  out = cModel.predict(np.expand_dims(test_data[i],axis=0))\n",
        "  out=(out.reshape(24,))\n",
        "  out=list(out)\n",
        "  max_value = max(out)\n",
        "  max_index = out.index(max_value)\n",
        "  pred = num2alpha_mod[max_index]\n",
        "  pred_arr.append(pred)"
      ],
      "execution_count": 0,
      "outputs": []
    },
    {
      "cell_type": "code",
      "metadata": {
        "id": "hVPS6LGtYKBc",
        "colab_type": "code",
        "colab": {}
      },
      "source": [
        "len(orig_label_arr)"
      ],
      "execution_count": 0,
      "outputs": []
    },
    {
      "cell_type": "code",
      "metadata": {
        "id": "ivhSnBCHJ9CD",
        "colab_type": "code",
        "colab": {
          "base_uri": "https://localhost:8080/",
          "height": 34
        },
        "outputId": "72668ad4-65f3-49dc-f709-0dada44f66fa"
      },
      "source": [
        "pred_arr[20:30]"
      ],
      "execution_count": 193,
      "outputs": [
        {
          "output_type": "execute_result",
          "data": {
            "text/plain": [
              "['C', 'A', 'R', 'E', 'K', 'P', 'C', 'P', 'H', 'B']"
            ]
          },
          "metadata": {
            "tags": []
          },
          "execution_count": 193
        }
      ]
    },
    {
      "cell_type": "code",
      "metadata": {
        "id": "h0qMkO9_KDSL",
        "colab_type": "code",
        "colab": {
          "base_uri": "https://localhost:8080/",
          "height": 34
        },
        "outputId": "4e703d5f-8949-42b9-94be-e4a245ab6653"
      },
      "source": [
        "orig_label_arr[20:30]"
      ],
      "execution_count": 197,
      "outputs": [
        {
          "output_type": "execute_result",
          "data": {
            "text/plain": [
              "['C', 'A', 'V', 'E', 'K', 'P', 'C', 'P', 'H', 'B']"
            ]
          },
          "metadata": {
            "tags": []
          },
          "execution_count": 197
        }
      ]
    },
    {
      "cell_type": "code",
      "metadata": {
        "id": "v4OlQIqeHy75",
        "colab_type": "code",
        "colab": {}
      },
      "source": [
        "from sklearn.metrics import confusion_matrix\n",
        "import seaborn as sns\n",
        "def showConfusionMatrix():\n",
        "  cm_labels= np.array([\"A\",  \"B\",  \"C\",  \"D\",  \"E\",  \"F\",  \"G\",  \"H\",  \"I\",  \"K\", \"L\",  \"M\", \"N\",  \"O\", \"P\",  \"Q\", \"R\",\n",
        "       \"S\",  \"T\", \"U\",  \"V\", \"W\",  \"X\", \"Y\"])\n",
        "  cm = confusion_matrix(orig_label_arr, pred_arr, labels=cm_labels)\n",
        "  plt.figure(figsize = (15, 12))\n",
        "  sns.heatmap(cm, annot=True, fmt='d', xticklabels=cm_labels, yticklabels=cm_labels)"
      ],
      "execution_count": 0,
      "outputs": []
    },
    {
      "cell_type": "code",
      "metadata": {
        "id": "2Wwdz1R_ZZrg",
        "colab_type": "code",
        "colab": {
          "base_uri": "https://localhost:8080/",
          "height": 700
        },
        "outputId": "b472389d-3081-497a-a045-826c66c8d419"
      },
      "source": [
        "showConfusionMatrix()"
      ],
      "execution_count": 229,
      "outputs": [
        {
          "output_type": "display_data",
          "data": {
            "image/png": "[encoded data removed]",
            "text/plain": [
              "<Figure size 1080x864 with 2 Axes>"
            ]
          },
          "metadata": {
            "tags": [],
            "needs_background": "light"
          }
        }
      ]
    },
    {
      "cell_type": "code",
      "metadata": {
        "id": "T_-0jPiXZnZ2",
        "colab_type": "code",
        "colab": {
          "base_uri": "https://localhost:8080/",
          "height": 71
        },
        "outputId": "85d76dfe-5c29-4148-e138-02aab72b8b29"
      },
      "source": [
        "matches = 0\n",
        "no_matches = 0\n",
        "no_matches_arr = []\n",
        "for i in range(0,len(orig_label_arr)):\n",
        "  if(orig_label_arr[i] == pred_arr[i]):\n",
        "    matches += 1\n",
        "  else:\n",
        "    no_matches_arr.append(i)\n",
        "    no_matches +=1\n",
        "\n",
        "print(matches, no_matches)\n",
        "print(no_matches_arr)"
      ],
      "execution_count": 207,
      "outputs": [
        {
          "output_type": "stream",
          "text": [
            "6598 574\n",
            "[8, 22, 43, 48, 58, 74, 87, 115, 118, 139, 148, 160, 191, 193, 201, 206, 207, 209, 268, 271, 280, 288, 296, 298, 320, 326, 348, 359, 372, 389, 441, 444, 455, 456, 457, 462, 506, 527, 528, 529, 530, 532, 547, 552, 553, 564, 575, 591, 629, 668, 676, 691, 701, 715, 718, 727, 729, 753, 756, 757, 762, 772, 777, 788, 809, 825, 835, 837, 838, 848, 944, 949, 959, 960, 967, 969, 1037, 1045, 1053, 1067, 1091, 1101, 1123, 1136, 1147, 1152, 1161, 1163, 1178, 1187, 1197, 1205, 1216, 1221, 1230, 1252, 1255, 1281, 1301, 1318, 1338, 1343, 1351, 1357, 1366, 1370, 1388, 1389, 1390, 1395, 1402, 1421, 1422, 1439, 1465, 1484, 1515, 1545, 1551, 1563, 1584, 1586, 1596, 1597, 1603, 1618, 1620, 1623, 1624, 1633, 1676, 1685, 1686, 1694, 1722, 1734, 1754, 1766, 1774, 1811, 1812, 1824, 1828, 1832, 1834, 1842, 1844, 1877, 1882, 1915, 1920, 1932, 1957, 1982, 1995, 2014, 2019, 2021, 2037, 2041, 2047, 2077, 2080, 2139, 2141, 2157, 2160, 2167, 2168, 2184, 2190, 2202, 2209, 2223, 2240, 2269, 2277, 2285, 2299, 2304, 2316, 2318, 2325, 2332, 2347, 2368, 2370, 2379, 2388, 2390, 2392, 2396, 2405, 2434, 2445, 2473, 2492, 2500, 2548, 2557, 2569, 2576, 2577, 2581, 2589, 2590, 2601, 2604, 2630, 2636, 2639, 2666, 2671, 2676, 2680, 2686, 2699, 2700, 2734, 2758, 2765, 2791, 2794, 2796, 2830, 2831, 2852, 2917, 2925, 2949, 2950, 2970, 2979, 2989, 2996, 2999, 3006, 3036, 3045, 3052, 3061, 3068, 3086, 3093, 3101, 3108, 3126, 3135, 3166, 3167, 3168, 3192, 3202, 3208, 3217, 3223, 3248, 3250, 3262, 3283, 3293, 3297, 3303, 3320, 3336, 3340, 3395, 3397, 3399, 3400, 3434, 3449, 3450, 3452, 3461, 3478, 3490, 3497, 3498, 3499, 3512, 3513, 3514, 3554, 3570, 3602, 3621, 3646, 3650, 3651, 3668, 3673, 3676, 3679, 3743, 3753, 3762, 3775, 3776, 3780, 3789, 3798, 3831, 3857, 3860, 3867, 3902, 3908, 3931, 4001, 4002, 4011, 4027, 4031, 4037, 4042, 4046, 4050, 4079, 4092, 4100, 4102, 4112, 4114, 4123, 4129, 4137, 4139, 4146, 4157, 4172, 4186, 4226, 4236, 4260, 4267, 4269, 4270, 4272, 4292, 4301, 4308, 4326, 4331, 4355, 4364, 4365, 4366, 4373, 4374, 4397, 4400, 4402, 4409, 4419, 4421, 4434, 4439, 4453, 4470, 4471, 4480, 4502, 4505, 4523, 4529, 4540, 4565, 4567, 4583, 4586, 4597, 4615, 4616, 4655, 4667, 4672, 4706, 4712, 4746, 4757, 4760, 4772, 4773, 4793, 4816, 4825, 4833, 4867, 4876, 4904, 4913, 4916, 4928, 4938, 4980, 5007, 5027, 5039, 5061, 5063, 5067, 5079, 5088, 5091, 5092, 5100, 5103, 5118, 5120, 5127, 5149, 5161, 5186, 5220, 5227, 5263, 5272, 5291, 5295, 5313, 5316, 5319, 5320, 5347, 5375, 5382, 5404, 5412, 5446, 5452, 5455, 5461, 5470, 5479, 5480, 5495, 5506, 5509, 5511, 5521, 5535, 5565, 5567, 5620, 5625, 5627, 5637, 5640, 5644, 5650, 5692, 5706, 5707, 5709, 5711, 5719, 5743, 5772, 5796, 5799, 5803, 5821, 5866, 5883, 5886, 5895, 5901, 5934, 5935, 5936, 5959, 5986, 5999, 6015, 6041, 6062, 6077, 6078, 6082, 6089, 6121, 6123, 6125, 6158, 6168, 6181, 6184, 6203, 6209, 6218, 6230, 6237, 6247, 6257, 6259, 6329, 6336, 6338, 6344, 6375, 6387, 6425, 6440, 6441, 6442, 6455, 6456, 6463, 6469, 6494, 6499, 6500, 6503, 6508, 6512, 6546, 6573, 6580, 6582, 6600, 6616, 6640, 6657, 6688, 6696, 6698, 6700, 6701, 6732, 6734, 6744, 6754, 6758, 6770, 6773, 6776, 6786, 6791, 6792, 6804, 6805, 6840, 6844, 6857, 6868, 6893, 6909, 6921, 6928, 6934, 6951, 6957, 6980, 7009, 7010, 7023, 7025, 7027, 7030, 7033, 7045, 7050, 7089, 7092, 7093, 7095, 7097, 7101, 7116, 7119, 7129, 7137, 7139]\n"
          ],
          "name": "stdout"
        }
      ]
    },
    {
      "cell_type": "markdown",
      "metadata": {
        "id": "TPsBzfIXHuZh",
        "colab_type": "text"
      },
      "source": [
        "---------------------------------------------------------"
      ]
    },
    {
      "cell_type": "markdown",
      "metadata": {
        "id": "UMIJk9ToaLGO",
        "colab_type": "text"
      },
      "source": [
        "Test external image"
      ]
    },
    {
      "cell_type": "code",
      "metadata": {
        "id": "iPy-akUOaN1N",
        "colab_type": "code",
        "colab": {
          "base_uri": "https://localhost:8080/",
          "height": 299
        },
        "outputId": "a4cf0b98-4f63-4559-aa93-5583e6d48418"
      },
      "source": [
        "import cv2\n",
        "img = cv2.imread('/content/download.jpg', cv2.IMREAD_GRAYSCALE)\n",
        "im_new = cv2.resize(img, (28, 28))\n",
        "plt.imshow(im_new.reshape(28,28))\n",
        "reg_pred = cModel.predict(np.expand_dims(im_new.reshape(28,28,1),axis=0))\n",
        "reg_pred=(reg_pred.reshape(24,))\n",
        "reg_pred=list(reg_pred)\n",
        "max_value = max(reg_pred)\n",
        "max_index = reg_pred.index(max_value)\n",
        "print(\"Predicted Label = \" + str(max_index))\n",
        "num2alpha_mod = {\n",
        "    0: \"A\", 1: \"B\", 2: \"C\", 3: \"D\", 4: \"E\", 5: \"F\", 6: \"G\", 7: \"H\", 8: \"I\", 9: \"K\", 10: \"L\", 11: \"M\", 12: \"N\",\n",
        "    13: \"O\", 14: \"P\", 15: \"Q\", 16: \"R\", 17: \"S\", 18: \"T\", 19: \"U\", 20: \"V\", 21: \"W\", 22: \"X\", 23: \"Y\"\n",
        "}\n",
        "pred = num2alpha_mod[max_index]\n",
        "print(\"Predicted Value = \" + str(pred))"
      ],
      "execution_count": 227,
      "outputs": [
        {
          "output_type": "stream",
          "text": [
            "Predicted Label = 6\n",
            "Predicted Value = G\n"
          ],
          "name": "stdout"
        },
        {
          "output_type": "display_data",
          "data": {
            "image/png": "[encoded data removed]",
            "text/plain": [
              "<Figure size 432x288 with 1 Axes>"
            ]
          },
          "metadata": {
            "tags": [],
            "needs_background": "light"
          }
        }
      ]
    },
    {
      "cell_type": "markdown",
      "metadata": {
        "id": "K55OjZVuarT_",
        "colab_type": "text"
      },
      "source": [
        "------------------------------------------------------------"
      ]
    },
    {
      "cell_type": "code",
      "metadata": {
        "id": "buKdPT6y2hah",
        "colab_type": "code",
        "colab": {}
      },
      "source": [
        "out=cModel.predict(np.expand_dims(test_data[2],axis=0))"
      ],
      "execution_count": 0,
      "outputs": []
    },
    {
      "cell_type": "code",
      "metadata": {
        "id": "K9_Nu7f8-l8m",
        "colab_type": "code",
        "colab": {
          "base_uri": "https://localhost:8080/",
          "height": 51
        },
        "outputId": "abd9afe9-a3ce-4998-e0e3-331d3add06d4"
      },
      "source": [
        "num2alpha = {\n",
        "    0: \"A\", 1: \"B\", 2: \"C\", 3: \"D\", 4: \"E\", 5: \"F\", 6: \"G\", 7: \"H\", 8: \"I\", 10: \"K\", 11: \"L\", 12: \"M\", 13: \"N\",\n",
        "    14: \"O\", 15: \"P\", 16: \"Q\", 17: \"R\", 18: \"S\", 19: \"T\", 20: \"U\", 21: \"V\", 22: \"W\", 23: \"X\", 24: \"Y\"\n",
        "}\n",
        "\n",
        "print(test_label[3])\n",
        "orig = num2alpha[test_label[2]]\n",
        "print(orig)"
      ],
      "execution_count": 141,
      "outputs": [
        {
          "output_type": "stream",
          "text": [
            "10\n",
            "K\n"
          ],
          "name": "stdout"
        }
      ]
    },
    {
      "cell_type": "code",
      "metadata": {
        "id": "Izq56EL82jC4",
        "colab_type": "code",
        "colab": {}
      },
      "source": [
        "out=(out.reshape(24,))"
      ],
      "execution_count": 0,
      "outputs": []
    },
    {
      "cell_type": "code",
      "metadata": {
        "id": "MY3wtwo52kub",
        "colab_type": "code",
        "colab": {
          "base_uri": "https://localhost:8080/",
          "height": 54
        },
        "outputId": "298f2654-1043-4e73-98ff-a83b4f364385"
      },
      "source": [
        "out=list(out)\n",
        "print(out)"
      ],
      "execution_count": 136,
      "outputs": [
        {
          "output_type": "stream",
          "text": [
            "[7.878201e-13, 3.1175876e-13, 2.977306e-15, 5.5899378e-08, 3.507841e-16, 6.011878e-12, 6.1864874e-14, 4.7687146e-15, 2.8396197e-09, 0.99998105, 1.690907e-07, 2.6284125e-10, 6.921062e-10, 3.3472552e-13, 1.7901435e-09, 2.041028e-11, 1.8465253e-05, 2.1326587e-09, 2.2249551e-14, 2.6801573e-07, 2.5604596e-09, 5.664267e-10, 4.5699142e-09, 6.79985e-08]\n"
          ],
          "name": "stdout"
        }
      ]
    },
    {
      "cell_type": "code",
      "metadata": {
        "id": "JsTZrHSZ2maA",
        "colab_type": "code",
        "colab": {
          "base_uri": "https://localhost:8080/",
          "height": 34
        },
        "outputId": "43019e0e-15ce-4395-829d-362f8fe65fa7"
      },
      "source": [
        "max_value = max(out)\n",
        "max_index = out.index(max_value)\n",
        "max_index"
      ],
      "execution_count": 137,
      "outputs": [
        {
          "output_type": "execute_result",
          "data": {
            "text/plain": [
              "9"
            ]
          },
          "metadata": {
            "tags": []
          },
          "execution_count": 137
        }
      ]
    },
    {
      "cell_type": "code",
      "metadata": {
        "id": "Jg0mBOdj9qPA",
        "colab_type": "code",
        "colab": {
          "base_uri": "https://localhost:8080/",
          "height": 34
        },
        "outputId": "578e2207-2bfa-4f40-a443-696a48147d98"
      },
      "source": [
        "num2alpha_mod = {\n",
        "    0: \"A\", 1: \"B\", 2: \"C\", 3: \"D\", 4: \"E\", 5: \"F\", 6: \"G\", 7: \"H\", 8: \"I\", 9: \"K\", 10: \"L\", 11: \"M\", 12: \"N\",\n",
        "    13: \"O\", 14: \"P\", 15: \"Q\", 16: \"R\", 17: \"S\", 18: \"T\", 19: \"U\", 20: \"V\", 21: \"W\", 22: \"X\", 23: \"Y\"\n",
        "}\n",
        "\n",
        "pred = num2alpha_mod[max_index]\n",
        "print(pred)"
      ],
      "execution_count": 138,
      "outputs": [
        {
          "output_type": "stream",
          "text": [
            "K\n"
          ],
          "name": "stdout"
        }
      ]
    },
    {
      "cell_type": "code",
      "metadata": {
        "id": "jxkWWTHN2sdk",
        "colab_type": "code",
        "colab": {
          "base_uri": "https://localhost:8080/",
          "height": 34
        },
        "outputId": "93565715-5e06-4cbf-ca12-0d01aecea150"
      },
      "source": [
        "print(max_index-1)"
      ],
      "execution_count": 110,
      "outputs": [
        {
          "output_type": "stream",
          "text": [
            "4\n"
          ],
          "name": "stdout"
        }
      ]
    },
    {
      "cell_type": "code",
      "metadata": {
        "id": "dKjqVBmc4QY5",
        "colab_type": "code",
        "colab": {}
      },
      "source": [
        "test_data[111]"
      ],
      "execution_count": 0,
      "outputs": []
    },
    {
      "cell_type": "code",
      "metadata": {
        "id": "_nIXmGum2uTv",
        "colab_type": "code",
        "colab": {
          "base_uri": "https://localhost:8080/",
          "height": 282
        },
        "outputId": "ef275028-6aa5-4fd3-99f3-dca973733fd3"
      },
      "source": [
        "plt.imshow(test_data[1].reshape(28,28))#checking data"
      ],
      "execution_count": 132,
      "outputs": [
        {
          "output_type": "execute_result",
          "data": {
            "text/plain": [
              "<matplotlib.image.AxesImage at 0x7f9b3afe0908>"
            ]
          },
          "metadata": {
            "tags": []
          },
          "execution_count": 132
        },
        {
          "output_type": "display_data",
          "data": {
            "image/png": "[encoded data removed]",
            "text/plain": [
              "<Figure size 432x288 with 1 Axes>"
            ]
          },
          "metadata": {
            "tags": [],
            "needs_background": "light"
          }
        }
      ]
    },
    {
      "cell_type": "code",
      "metadata": {
        "id": "2sFEF7iQ_xxl",
        "colab_type": "code",
        "colab": {}
      },
      "source": [
        "cModel.summary()"
      ],
      "execution_count": 0,
      "outputs": []
    },
    {
      "cell_type": "code",
      "metadata": {
        "id": "TAL50jyR-8aB",
        "colab_type": "code",
        "colab": {}
      },
      "source": [
        "# save the model to disk\n",
        "import pickle\n",
        "filename = '/content/drive/My Drive/Colab Notebooks/data/SignLanguageMNIST/signLanguage_modelCNN_diffApproach.pkl'\n",
        "pickle.dump(cModel, open(filename, 'wb'))"
      ],
      "execution_count": 0,
      "outputs": []
    }
  ]
}